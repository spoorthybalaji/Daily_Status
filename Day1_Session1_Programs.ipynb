{
  "nbformat": 4,
  "nbformat_minor": 0,
  "metadata": {
    "colab": {
      "name": "Day1 Session1 Programs.ipynb",
      "provenance": [],
      "collapsed_sections": [],
      "authorship_tag": "ABX9TyNRe+1tiIt8zTg1zcOjqONk",
      "include_colab_link": true
    },
    "kernelspec": {
      "name": "python3",
      "display_name": "Python 3"
    }
  },
  "cells": [
    {
      "cell_type": "markdown",
      "metadata": {
        "id": "view-in-github",
        "colab_type": "text"
      },
      "source": [
        "<a href=\"https://colab.research.google.com/github/spoorthybalaji/Daily_Status/blob/master/Day1_Session1_Programs.ipynb\" target=\"_parent\"><img src=\"https://colab.research.google.com/assets/colab-badge.svg\" alt=\"Open In Colab\"/></a>"
      ]
    },
    {
      "cell_type": "code",
      "metadata": {
        "id": "Pa3DE8HxreF6",
        "colab_type": "code",
        "outputId": "a1ef5992-8767-462e-978a-ecaa9d19a252",
        "colab": {
          "base_uri": "https://localhost:8080/",
          "height": 34
        }
      },
      "source": [
        "def compound_interest(principle, rate, time): \n",
        "    CI = principle * (pow((1 + rate / 100), time)) \n",
        "    print(\"Compound interest is\", CI)   \n",
        "compound_interest(10000, 10.25, 5) \n"
      ],
      "execution_count": 0,
      "outputs": [
        {
          "output_type": "stream",
          "text": [
            "Compound interest is 16288.946267774416\n"
          ],
          "name": "stdout"
        }
      ]
    },
    {
      "cell_type": "code",
      "metadata": {
        "id": "eG_Cp3myr7zE",
        "colab_type": "code",
        "outputId": "b2d819ac-4d05-4788-84f5-86d7643a4b70",
        "colab": {
          "base_uri": "https://localhost:8080/",
          "height": 51
        }
      },
      "source": [
        "fahrenheit = float(input(\"Enter temperature in fahrenheit: \"))\n",
        "celsius = (fahrenheit - 32) * 5/9\n",
        "print('%.2f Fahrenheit is: %0.2f Celsius' %(fahrenheit, celsius))"
      ],
      "execution_count": 0,
      "outputs": [
        {
          "output_type": "stream",
          "text": [
            "Enter temperature in fahrenheit: 57\n",
            "57.00 Fahrenheit is: 13.89 Celsius\n"
          ],
          "name": "stdout"
        }
      ]
    },
    {
      "cell_type": "code",
      "metadata": {
        "id": "3IZfAol9sDLN",
        "colab_type": "code",
        "outputId": "0aeb2161-276b-413b-d485-6926a8c37fc9",
        "colab": {
          "base_uri": "https://localhost:8080/",
          "height": 68
        }
      },
      "source": [
        "num1=int(input(\"enter the first number:\"))\n",
        "num2=int(input(\"enter the second number:\"))\n",
        "if num1>=num2:\n",
        "    large=num1\n",
        "else:\n",
        "    large=num2\n",
        "    print(\"the largest number is:\",large)"
      ],
      "execution_count": 0,
      "outputs": [
        {
          "output_type": "stream",
          "text": [
            "enter the first number:2\n",
            "enter the second number:5\n",
            "the largest number is: 5\n"
          ],
          "name": "stdout"
        }
      ]
    },
    {
      "cell_type": "code",
      "metadata": {
        "id": "ZLMDIeLSsuYO",
        "colab_type": "code",
        "outputId": "0f1493a9-3bcc-4318-8835-b673c53e7ad9",
        "colab": {
          "base_uri": "https://localhost:8080/",
          "height": 51
        }
      },
      "source": [
        "import math \n",
        "pi = math.pi \n",
        "def volume(r, h): \n",
        "    return (1 / 3) * pi * r * r * h \n",
        "def surfacearea(r, s): \n",
        "    return pi * r * s + pi * r * r \n",
        "radius = float(5) \n",
        "height = float(12) \n",
        "slat_height = float(13) \n",
        "print( \"Volume Of Cone : \", volume(radius, height) ) \n",
        "print( \"Surface Area Of Cone : \", surfacearea(radius, slat_height) ) "
      ],
      "execution_count": 0,
      "outputs": [
        {
          "output_type": "stream",
          "text": [
            "Volume Of Cone :  314.15926535897927\n",
            "Surface Area Of Cone :  282.7433388230814\n"
          ],
          "name": "stdout"
        }
      ]
    },
    {
      "cell_type": "code",
      "metadata": {
        "id": "6itEOsB9t23U",
        "colab_type": "code",
        "outputId": "7a78a08e-1b23-4950-de20-a5ed1a6da16a",
        "colab": {
          "base_uri": "https://localhost:8080/",
          "height": 34
        }
      },
      "source": [
        "n1 = input(\"Enter the 1st number:\")\n",
        "n2 = input(\"Enter the 2nd number:\")\n",
        "  \n",
        "mx = n1 if n1 > n2 else n2 \n",
        "print(\"Largest number between \" + str(n1) + \" and \" + str(n2) + \" is \" + str(mx)) "
      ],
      "execution_count": 0,
      "outputs": [
        {
          "output_type": "stream",
          "text": [
            "Largest number between 5 and 10 is 10\n"
          ],
          "name": "stdout"
        }
      ]
    },
    {
      "cell_type": "code",
      "metadata": {
        "id": "Px9Ez_G-uUpt",
        "colab_type": "code",
        "colab": {
          "base_uri": "https://localhost:8080/",
          "height": 1000
        },
        "outputId": "9790523c-cc13-4f61-904b-799fb0d86030"
      },
      "source": [
        "loop = 1\n",
        "choice = 0\n",
        "def OddorEven(n):\n",
        "  if(n%2==0):\n",
        "    return True\n",
        "def fact(f):\n",
        "  s=1\n",
        "  while(f>0):\n",
        "    s=s*f\n",
        "    f=f-1\n",
        "  print(f\"Factorial Of {f} Is: {s}\")\n",
        "def Odd(o):\n",
        "  for i in range(o+1):\n",
        "    if(i%2 != 0):\n",
        "      print(i, end=' ')\n",
        "def prime(p):\n",
        "  c=0\n",
        "  print(2, end=' ')\n",
        "  for i in range(3,p+1):\n",
        "    for j in range(2,i):\n",
        "      if(i % j == 0):\n",
        "        c=1\n",
        "        break\n",
        "    if(c==0):\n",
        "      print(i, end=' ')\n",
        "    c=0\n",
        "\n",
        "while loop == 1:\n",
        "    print(\" \")\n",
        "    print (\"your options are:\")\n",
        "    print (\" \")\n",
        "    print(\"1) Odd or Even\")\n",
        "    print(\"2) Factorial\")\n",
        "    print(\"3) Odd Number Upto N\")\n",
        "    print(\"4) Prime Number upto N\")\n",
        "    print(\"5) Quit\")\n",
        "    print(\" \")\n",
        "    try:\n",
        "        choice = int(input(\"Choose your option: \"))\n",
        "    except:\n",
        "        print('please enter a valid number for option')\n",
        "    print(\" \")\n",
        "    if choice == 1:\n",
        "      n = int(input(\"Enter The Number: \"))\n",
        "      if(OddorEven(n)):\n",
        "        print(\"The Number Is Even\")\n",
        "      else:\n",
        "        print(\"The Number Is Odd\")\n",
        "    elif choice == 2:\n",
        "      f = int(input(\"Enter The Number: \"))\n",
        "      fact(f)\n",
        "    elif choice == 3:\n",
        "      o = int(input(\"Enter The Number: \"))\n",
        "      Odd(o)\n",
        "    elif choice == 4:\n",
        "      p = int(input(\"Enter The Number: \"))\n",
        "      prime(p)\n",
        "    elif choice == 5:\n",
        "      loop = 0\n",
        "    else:\n",
        "      print(\"please choice a valid option from 1 to 5\")\n",
        "      choice=0"
      ],
      "execution_count": 1,
      "outputs": [
        {
          "output_type": "stream",
          "text": [
            " \n",
            "your options are:\n",
            " \n",
            "1) Odd or Even\n",
            "2) Factorial\n",
            "3) Odd Number Upto N\n",
            "4) Prime Number upto N\n",
            "5) Quit\n",
            " \n",
            "Choose your option: 1\n",
            " \n",
            "Enter The Number: 3\n",
            "The Number Is Odd\n",
            " \n",
            "your options are:\n",
            " \n",
            "1) Odd or Even\n",
            "2) Factorial\n",
            "3) Odd Number Upto N\n",
            "4) Prime Number upto N\n",
            "5) Quit\n",
            " \n",
            "Choose your option: 2\n",
            " \n",
            "Enter The Number: 5\n",
            "Factorial Of 0 Is: 120\n",
            " \n",
            "your options are:\n",
            " \n",
            "1) Odd or Even\n",
            "2) Factorial\n",
            "3) Odd Number Upto N\n",
            "4) Prime Number upto N\n",
            "5) Quit\n",
            " \n",
            "Choose your option: 3\n",
            " \n",
            "Enter The Number: 5\n",
            "1 3 5  \n",
            "your options are:\n",
            " \n",
            "1) Odd or Even\n",
            "2) Factorial\n",
            "3) Odd Number Upto N\n",
            "4) Prime Number upto N\n",
            "5) Quit\n",
            " \n",
            "Choose your option: 4\n",
            " \n",
            "Enter The Number: 6\n",
            "2 3 5  \n",
            "your options are:\n",
            " \n",
            "1) Odd or Even\n",
            "2) Factorial\n",
            "3) Odd Number Upto N\n",
            "4) Prime Number upto N\n",
            "5) Quit\n",
            " \n",
            "Choose your option: 5\n",
            " \n"
          ],
          "name": "stdout"
        }
      ]
    },
    {
      "cell_type": "code",
      "metadata": {
        "id": "Fr1tyL4gZ3gN",
        "colab_type": "code",
        "colab": {}
      },
      "source": [
        ""
      ],
      "execution_count": 0,
      "outputs": []
    }
  ]
}